{
 "cells": [
  {
   "cell_type": "code",
   "execution_count": 29,
   "metadata": {},
   "outputs": [],
   "source": [
    "import pandas as pd"
   ]
  },
  {
   "cell_type": "code",
   "execution_count": 30,
   "metadata": {},
   "outputs": [],
   "source": [
    "a = pd.read_csv(\"Dataset/breaking_bad_dataset.csv\")\n",
    "b = pd.read_csv(\"Dataset/friends_dataset.csv\")\n",
    "c = pd.read_csv(\"Dataset/transcripts.csv\")"
   ]
  },
  {
   "cell_type": "code",
   "execution_count": 31,
   "metadata": {},
   "outputs": [
    {
     "data": {
      "text/plain": [
       "0     [in a calm tone] - Then what do you suggest w...\n",
       "1     Look you remember Emilio? Kay this dude got E...\n",
       "2     You are joking right? If I gave you that mone...\n",
       "3     Yeah damn straight. Know why? Cause we do thi...\n",
       "4                            Stay out of my territory.\n",
       "Name: Text, dtype: object"
      ]
     },
     "execution_count": 31,
     "metadata": {},
     "output_type": "execute_result"
    }
   ],
   "source": [
    "a = a[\"Text\"]\n",
    "a.head()"
   ]
  },
  {
   "cell_type": "code",
   "execution_count": 32,
   "metadata": {},
   "outputs": [
    {
     "data": {
      "text/plain": [
       "0                                                What?\n",
       "1                    Oh, you got the whole night, huh?\n",
       "2    Phoebe is going to say \"yes\"? That's, that's g...\n",
       "3                                                Yeah.\n",
       "4                                                 Oh! \n",
       "Name: Text, dtype: object"
      ]
     },
     "execution_count": 32,
     "metadata": {},
     "output_type": "execute_result"
    }
   ],
   "source": [
    "b = b[\"Text\"]\n",
    "b.head()"
   ]
  },
  {
   "cell_type": "code",
   "execution_count": 33,
   "metadata": {},
   "outputs": [
    {
     "data": {
      "text/plain": [
       "0    Good morning. How are you?(Laughter)It's been ...\n",
       "1    Thank you so much, Chris. And it's truly a gre...\n",
       "2    (Music: \"The Sound of Silence,\" Simon & Garfun...\n",
       "3    If you're here today — and I'm very happy that...\n",
       "4    About 10 years ago, I took on the task to teac...\n",
       "Name: transcript, dtype: object"
      ]
     },
     "execution_count": 33,
     "metadata": {},
     "output_type": "execute_result"
    }
   ],
   "source": [
    "c = c[\"transcript\"]\n",
    "c.head()"
   ]
  },
  {
   "cell_type": "code",
   "execution_count": 34,
   "metadata": {},
   "outputs": [
    {
     "data": {
      "text/plain": [
       "97721"
      ]
     },
     "execution_count": 34,
     "metadata": {},
     "output_type": "execute_result"
    }
   ],
   "source": [
    "text = []\n",
    "for s in a:\n",
    "    text.append(str(s))\n",
    "\n",
    "for s in b:\n",
    "    text.append(str(s))\n",
    "\n",
    "for s in c:\n",
    "    text.append(str(s))\n",
    "\n",
    "len(text)"
   ]
  },
  {
   "cell_type": "code",
   "execution_count": 35,
   "metadata": {},
   "outputs": [],
   "source": [
    "file = open(r\"corpus.txt\", \"w\")\n",
    "file.writelines(text)\n",
    "file.close()"
   ]
  },
  {
   "cell_type": "code",
   "execution_count": 36,
   "metadata": {},
   "outputs": [],
   "source": [
    "file = open('corpus.txt', 'r')\n",
    "# file.read()"
   ]
  },
  {
   "cell_type": "code",
   "execution_count": 37,
   "metadata": {},
   "outputs": [],
   "source": [
    "file.close()"
   ]
  },
  {
   "cell_type": "code",
   "execution_count": null,
   "metadata": {},
   "outputs": [],
   "source": []
  }
 ],
 "metadata": {
  "kernelspec": {
   "display_name": "Python 3",
   "language": "python",
   "name": "python3"
  }
 },
 "nbformat": 4,
 "nbformat_minor": 4
}
